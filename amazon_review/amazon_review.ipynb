{
 "cells": [
  {
   "cell_type": "markdown",
   "id": "0cbd306f",
   "metadata": {},
   "source": [
    "<img src = \"https://images2.imgbox.com/a5/72/7ZbDUHlf_o.jpg\" width=\"200\">"
   ]
  },
  {
   "cell_type": "markdown",
   "id": "66cf447e",
   "metadata": {},
   "source": [
    "### Perguntas:\n",
    "---\n",
    "- Quais são os cinco produtos com maior quantidade de reviews?\n",
    "- Quais são os cinco produtos com maior rating médio?\n",
    "- Assuma que qualquer review com rating maior que 3 é positivo. (3.5, 4, 4.5, 5.0). Qual percentual de reviews positivos para os cinco produtos com maior quantidade de reviews?\n",
    "- De acordo com a pergunta acima, qual percentual de reviews positivos para os cinco produtos com maior rating médio?\n",
    "- Quanto menos reviews, mais fácil ter um percentual maior de reviews positivos. Para comparar melhor os melhores produtos, vamos usar uma regra: qual seria o percentual de reviews positivos de todos os produtos, se eu adicionasse 1 review positivo e 1 review negativo? (fonte: https://www.youtube.com/watch?v=8idr1WZ1A7Q)\n",
    "\n",
    "**Fonte dos dados:** https://jmcauley.ucsd.edu/data/amazon/"
   ]
  },
  {
   "cell_type": "markdown",
   "id": "5c4ff6dd",
   "metadata": {},
   "source": [
    "**Explicando melhor a última pergunta:**\n",
    "\n",
    "Imagine que um produto tenha 50 reviews, 37 positivos. Então, vamos adicionar 1 positivo e 1 negativo, ficamos com 38 positivos e 24 negativos. Assim, o percentual de positivos é 38/52 = 73%.\n",
    "\n",
    "---\n",
    "\n",
    "\n",
    "- Qual o preço médio de todos os produtos?\n",
    "- Qual o preço médio de produtos da Philips, da 3M e da Duracell?\n",
    "- Para cada produto da Philips, da 3M e da Duracell, calcule o percentual de reviews positivos (sem usar o conceito acima).\n",
    "- Qual o percentual de positivos médio para cada uma dessas marcas? \n",
    "\n",
    "---"
   ]
  },
  {
   "cell_type": "code",
   "execution_count": 1,
   "id": "cdb663f5",
   "metadata": {},
   "outputs": [],
   "source": [
    "# Importando bibliotecas\n",
    "import pandas as pd"
   ]
  },
  {
   "cell_type": "code",
   "execution_count": 2,
   "id": "a073d73e",
   "metadata": {},
   "outputs": [],
   "source": [
    "# Carregando dados \n",
    "products_df = pd.read_json('data/metadata_products.json', lines=True)\n",
    "reviews_df  = pd.read_json('data/reviews_amazon.json')"
   ]
  },
  {
   "cell_type": "code",
   "execution_count": 5,
   "id": "93637fc1",
   "metadata": {},
   "outputs": [
    {
     "data": {
      "text/html": [
       "<div>\n",
       "<style scoped>\n",
       "    .dataframe tbody tr th:only-of-type {\n",
       "        vertical-align: middle;\n",
       "    }\n",
       "\n",
       "    .dataframe tbody tr th {\n",
       "        vertical-align: top;\n",
       "    }\n",
       "\n",
       "    .dataframe thead th {\n",
       "        text-align: right;\n",
       "    }\n",
       "</style>\n",
       "<table border=\"1\" class=\"dataframe\">\n",
       "  <thead>\n",
       "    <tr style=\"text-align: right;\">\n",
       "      <th></th>\n",
       "      <th>asin</th>\n",
       "      <th>title</th>\n",
       "      <th>price</th>\n",
       "      <th>brand</th>\n",
       "    </tr>\n",
       "  </thead>\n",
       "  <tbody>\n",
       "    <tr>\n",
       "      <th>0</th>\n",
       "      <td>0736789928</td>\n",
       "      <td>Zaner-Bloser Classic Handwriting Pen Single Un...</td>\n",
       "      <td>3.49</td>\n",
       "      <td>Zaner-Bloser</td>\n",
       "    </tr>\n",
       "    <tr>\n",
       "      <th>1</th>\n",
       "      <td>0767196813</td>\n",
       "      <td>Graphique - Bunco Purse Notes, 3 x 4&amp;quot;, Mu...</td>\n",
       "      <td>3.95</td>\n",
       "      <td>None</td>\n",
       "    </tr>\n",
       "    <tr>\n",
       "      <th>2</th>\n",
       "      <td>1423915380</td>\n",
       "      <td>Renata Battery 370 Sr920W Silver 1.55V Swiss Made</td>\n",
       "      <td>2.85</td>\n",
       "      <td>Renata</td>\n",
       "    </tr>\n",
       "    <tr>\n",
       "      <th>3</th>\n",
       "      <td>1424333083</td>\n",
       "      <td>Kinesiotaping in Pediatrics: Fundamentals and ...</td>\n",
       "      <td>48.90</td>\n",
       "      <td>Kinesio</td>\n",
       "    </tr>\n",
       "    <tr>\n",
       "      <th>4</th>\n",
       "      <td>1472607341</td>\n",
       "      <td>Filofax Personal Original Patent Purple</td>\n",
       "      <td>NaN</td>\n",
       "      <td>None</td>\n",
       "    </tr>\n",
       "    <tr>\n",
       "      <th>5</th>\n",
       "      <td>1574890719</td>\n",
       "      <td>Cavallini and Glitter Gift Tags Birds 36 Assor...</td>\n",
       "      <td>12.45</td>\n",
       "      <td>Cavallini &amp;amp; Co.</td>\n",
       "    </tr>\n",
       "    <tr>\n",
       "      <th>6</th>\n",
       "      <td>1574899201</td>\n",
       "      <td>Cavallini Paris Decorative Paper Tape - 5 asso...</td>\n",
       "      <td>12.95</td>\n",
       "      <td>Cavallini &amp;amp; Co.</td>\n",
       "    </tr>\n",
       "    <tr>\n",
       "      <th>7</th>\n",
       "      <td>157489823X</td>\n",
       "      <td>Cavallini Notebooks New York 6 x 8</td>\n",
       "      <td>11.95</td>\n",
       "      <td>Cavallini &amp;amp; Co.</td>\n",
       "    </tr>\n",
       "    <tr>\n",
       "      <th>8</th>\n",
       "      <td>1619920433</td>\n",
       "      <td>Cavallini 6 by 8-Inch Birds Notebook, 144 Pages</td>\n",
       "      <td>11.55</td>\n",
       "      <td>None</td>\n",
       "    </tr>\n",
       "    <tr>\n",
       "      <th>9</th>\n",
       "      <td>1619920441</td>\n",
       "      <td>Cavallini &amp;amp; Co. Anatomy Decorative Wrappin...</td>\n",
       "      <td>8.97</td>\n",
       "      <td>Cavallini &amp;amp; Co.</td>\n",
       "    </tr>\n",
       "  </tbody>\n",
       "</table>\n",
       "</div>"
      ],
      "text/plain": [
       "         asin                                              title  price  \\\n",
       "0  0736789928  Zaner-Bloser Classic Handwriting Pen Single Un...   3.49   \n",
       "1  0767196813  Graphique - Bunco Purse Notes, 3 x 4&quot;, Mu...   3.95   \n",
       "2  1423915380  Renata Battery 370 Sr920W Silver 1.55V Swiss Made   2.85   \n",
       "3  1424333083  Kinesiotaping in Pediatrics: Fundamentals and ...  48.90   \n",
       "4  1472607341            Filofax Personal Original Patent Purple    NaN   \n",
       "5  1574890719  Cavallini and Glitter Gift Tags Birds 36 Assor...  12.45   \n",
       "6  1574899201  Cavallini Paris Decorative Paper Tape - 5 asso...  12.95   \n",
       "7  157489823X                 Cavallini Notebooks New York 6 x 8  11.95   \n",
       "8  1619920433    Cavallini 6 by 8-Inch Birds Notebook, 144 Pages  11.55   \n",
       "9  1619920441  Cavallini &amp; Co. Anatomy Decorative Wrappin...   8.97   \n",
       "\n",
       "                 brand  \n",
       "0         Zaner-Bloser  \n",
       "1                 None  \n",
       "2               Renata  \n",
       "3              Kinesio  \n",
       "4                 None  \n",
       "5  Cavallini &amp; Co.  \n",
       "6  Cavallini &amp; Co.  \n",
       "7  Cavallini &amp; Co.  \n",
       "8                 None  \n",
       "9  Cavallini &amp; Co.  "
      ]
     },
     "execution_count": 5,
     "metadata": {},
     "output_type": "execute_result"
    }
   ],
   "source": [
    "# 10 primeiras observações do dataframe\n",
    "products_df.head(10)"
   ]
  },
  {
   "cell_type": "code",
   "execution_count": 6,
   "id": "73412256",
   "metadata": {},
   "outputs": [
    {
     "data": {
      "text/html": [
       "<div>\n",
       "<style scoped>\n",
       "    .dataframe tbody tr th:only-of-type {\n",
       "        vertical-align: middle;\n",
       "    }\n",
       "\n",
       "    .dataframe tbody tr th {\n",
       "        vertical-align: top;\n",
       "    }\n",
       "\n",
       "    .dataframe thead th {\n",
       "        text-align: right;\n",
       "    }\n",
       "</style>\n",
       "<table border=\"1\" class=\"dataframe\">\n",
       "  <thead>\n",
       "    <tr style=\"text-align: right;\">\n",
       "      <th></th>\n",
       "      <th>reviewerID</th>\n",
       "      <th>asin</th>\n",
       "      <th>reviewText</th>\n",
       "      <th>rating</th>\n",
       "    </tr>\n",
       "  </thead>\n",
       "  <tbody>\n",
       "    <tr>\n",
       "      <th>0</th>\n",
       "      <td>AVEZNYIN8PTCY</td>\n",
       "      <td>0736789928</td>\n",
       "      <td>This was the pen I used in grade school to lea...</td>\n",
       "      <td>4</td>\n",
       "    </tr>\n",
       "    <tr>\n",
       "      <th>1</th>\n",
       "      <td>A15C9PBP100HLB</td>\n",
       "      <td>0767196813</td>\n",
       "      <td>At our monthly BUNCO games we give prizes for ...</td>\n",
       "      <td>5</td>\n",
       "    </tr>\n",
       "    <tr>\n",
       "      <th>2</th>\n",
       "      <td>A349LYELBIFDVK</td>\n",
       "      <td>1423915380</td>\n",
       "      <td>Can't get my fossil to work with it. So took i...</td>\n",
       "      <td>4</td>\n",
       "    </tr>\n",
       "    <tr>\n",
       "      <th>3</th>\n",
       "      <td>AS33ZA0EODGZ8</td>\n",
       "      <td>1424333083</td>\n",
       "      <td>I have attended several courses taught by the ...</td>\n",
       "      <td>2</td>\n",
       "    </tr>\n",
       "    <tr>\n",
       "      <th>4</th>\n",
       "      <td>A1975EX0SEQM6O</td>\n",
       "      <td>1424333083</td>\n",
       "      <td>This has already come in handy for taping my s...</td>\n",
       "      <td>5</td>\n",
       "    </tr>\n",
       "    <tr>\n",
       "      <th>5</th>\n",
       "      <td>A3NTXSCT01FE8Y</td>\n",
       "      <td>1472607341</td>\n",
       "      <td>I ordered my filo on sunday and recieved it  o...</td>\n",
       "      <td>5</td>\n",
       "    </tr>\n",
       "    <tr>\n",
       "      <th>6</th>\n",
       "      <td>A1W6PXDD1CVKI</td>\n",
       "      <td>1574890719</td>\n",
       "      <td>These are adorable gift tags, retro and cute. ...</td>\n",
       "      <td>5</td>\n",
       "    </tr>\n",
       "    <tr>\n",
       "      <th>7</th>\n",
       "      <td>A3SRVYVONE131J</td>\n",
       "      <td>157489823X</td>\n",
       "      <td>Got this for my trip to NYC this summer. I tho...</td>\n",
       "      <td>4</td>\n",
       "    </tr>\n",
       "    <tr>\n",
       "      <th>8</th>\n",
       "      <td>A11NMMQEI6HFBA</td>\n",
       "      <td>1574899201</td>\n",
       "      <td>High quality washi tape in a tin. A good bit o...</td>\n",
       "      <td>5</td>\n",
       "    </tr>\n",
       "    <tr>\n",
       "      <th>9</th>\n",
       "      <td>A1L1ONPYVRYRYZ</td>\n",
       "      <td>1619920433</td>\n",
       "      <td>Cavallini has all kinds of fun and pretty trav...</td>\n",
       "      <td>5</td>\n",
       "    </tr>\n",
       "  </tbody>\n",
       "</table>\n",
       "</div>"
      ],
      "text/plain": [
       "       reviewerID        asin  \\\n",
       "0   AVEZNYIN8PTCY  0736789928   \n",
       "1  A15C9PBP100HLB  0767196813   \n",
       "2  A349LYELBIFDVK  1423915380   \n",
       "3   AS33ZA0EODGZ8  1424333083   \n",
       "4  A1975EX0SEQM6O  1424333083   \n",
       "5  A3NTXSCT01FE8Y  1472607341   \n",
       "6   A1W6PXDD1CVKI  1574890719   \n",
       "7  A3SRVYVONE131J  157489823X   \n",
       "8  A11NMMQEI6HFBA  1574899201   \n",
       "9  A1L1ONPYVRYRYZ  1619920433   \n",
       "\n",
       "                                          reviewText  rating  \n",
       "0  This was the pen I used in grade school to lea...       4  \n",
       "1  At our monthly BUNCO games we give prizes for ...       5  \n",
       "2  Can't get my fossil to work with it. So took i...       4  \n",
       "3  I have attended several courses taught by the ...       2  \n",
       "4  This has already come in handy for taping my s...       5  \n",
       "5  I ordered my filo on sunday and recieved it  o...       5  \n",
       "6  These are adorable gift tags, retro and cute. ...       5  \n",
       "7  Got this for my trip to NYC this summer. I tho...       4  \n",
       "8  High quality washi tape in a tin. A good bit o...       5  \n",
       "9  Cavallini has all kinds of fun and pretty trav...       5  "
      ]
     },
     "execution_count": 6,
     "metadata": {},
     "output_type": "execute_result"
    }
   ],
   "source": [
    "# 10 primeiras observações do dataframe\n",
    "reviews_df.head(10)"
   ]
  },
  {
   "cell_type": "code",
   "execution_count": 13,
   "id": "0ea8cc44",
   "metadata": {},
   "outputs": [
    {
     "data": {
      "text/html": [
       "<div>\n",
       "<style scoped>\n",
       "    .dataframe tbody tr th:only-of-type {\n",
       "        vertical-align: middle;\n",
       "    }\n",
       "\n",
       "    .dataframe tbody tr th {\n",
       "        vertical-align: top;\n",
       "    }\n",
       "\n",
       "    .dataframe thead th {\n",
       "        text-align: right;\n",
       "    }\n",
       "</style>\n",
       "<table border=\"1\" class=\"dataframe\">\n",
       "  <thead>\n",
       "    <tr style=\"text-align: right;\">\n",
       "      <th></th>\n",
       "      <th>reviewerID</th>\n",
       "      <th>asin</th>\n",
       "      <th>reviewText</th>\n",
       "      <th>rating</th>\n",
       "      <th>title</th>\n",
       "      <th>price</th>\n",
       "      <th>brand</th>\n",
       "    </tr>\n",
       "  </thead>\n",
       "  <tbody>\n",
       "    <tr>\n",
       "      <th>0</th>\n",
       "      <td>AVEZNYIN8PTCY</td>\n",
       "      <td>0736789928</td>\n",
       "      <td>This was the pen I used in grade school to lea...</td>\n",
       "      <td>4</td>\n",
       "      <td>Zaner-Bloser Classic Handwriting Pen Single Un...</td>\n",
       "      <td>3.49</td>\n",
       "      <td>Zaner-Bloser</td>\n",
       "    </tr>\n",
       "    <tr>\n",
       "      <th>1</th>\n",
       "      <td>A15C9PBP100HLB</td>\n",
       "      <td>0767196813</td>\n",
       "      <td>At our monthly BUNCO games we give prizes for ...</td>\n",
       "      <td>5</td>\n",
       "      <td>Graphique - Bunco Purse Notes, 3 x 4&amp;quot;, Mu...</td>\n",
       "      <td>3.95</td>\n",
       "      <td>None</td>\n",
       "    </tr>\n",
       "    <tr>\n",
       "      <th>2</th>\n",
       "      <td>A349LYELBIFDVK</td>\n",
       "      <td>1423915380</td>\n",
       "      <td>Can't get my fossil to work with it. So took i...</td>\n",
       "      <td>4</td>\n",
       "      <td>Renata Battery 370 Sr920W Silver 1.55V Swiss Made</td>\n",
       "      <td>2.85</td>\n",
       "      <td>Renata</td>\n",
       "    </tr>\n",
       "    <tr>\n",
       "      <th>3</th>\n",
       "      <td>AS33ZA0EODGZ8</td>\n",
       "      <td>1424333083</td>\n",
       "      <td>I have attended several courses taught by the ...</td>\n",
       "      <td>2</td>\n",
       "      <td>Kinesiotaping in Pediatrics: Fundamentals and ...</td>\n",
       "      <td>48.90</td>\n",
       "      <td>Kinesio</td>\n",
       "    </tr>\n",
       "    <tr>\n",
       "      <th>4</th>\n",
       "      <td>A1975EX0SEQM6O</td>\n",
       "      <td>1424333083</td>\n",
       "      <td>This has already come in handy for taping my s...</td>\n",
       "      <td>5</td>\n",
       "      <td>Kinesiotaping in Pediatrics: Fundamentals and ...</td>\n",
       "      <td>48.90</td>\n",
       "      <td>Kinesio</td>\n",
       "    </tr>\n",
       "    <tr>\n",
       "      <th>5</th>\n",
       "      <td>A3NTXSCT01FE8Y</td>\n",
       "      <td>1472607341</td>\n",
       "      <td>I ordered my filo on sunday and recieved it  o...</td>\n",
       "      <td>5</td>\n",
       "      <td>Filofax Personal Original Patent Purple</td>\n",
       "      <td>NaN</td>\n",
       "      <td>None</td>\n",
       "    </tr>\n",
       "    <tr>\n",
       "      <th>6</th>\n",
       "      <td>A1W6PXDD1CVKI</td>\n",
       "      <td>1574890719</td>\n",
       "      <td>These are adorable gift tags, retro and cute. ...</td>\n",
       "      <td>5</td>\n",
       "      <td>Cavallini and Glitter Gift Tags Birds 36 Assor...</td>\n",
       "      <td>12.45</td>\n",
       "      <td>Cavallini &amp;amp; Co.</td>\n",
       "    </tr>\n",
       "    <tr>\n",
       "      <th>7</th>\n",
       "      <td>A3SRVYVONE131J</td>\n",
       "      <td>157489823X</td>\n",
       "      <td>Got this for my trip to NYC this summer. I tho...</td>\n",
       "      <td>4</td>\n",
       "      <td>Cavallini Notebooks New York 6 x 8</td>\n",
       "      <td>11.95</td>\n",
       "      <td>Cavallini &amp;amp; Co.</td>\n",
       "    </tr>\n",
       "    <tr>\n",
       "      <th>8</th>\n",
       "      <td>A11NMMQEI6HFBA</td>\n",
       "      <td>1574899201</td>\n",
       "      <td>High quality washi tape in a tin. A good bit o...</td>\n",
       "      <td>5</td>\n",
       "      <td>Cavallini Paris Decorative Paper Tape - 5 asso...</td>\n",
       "      <td>12.95</td>\n",
       "      <td>Cavallini &amp;amp; Co.</td>\n",
       "    </tr>\n",
       "    <tr>\n",
       "      <th>9</th>\n",
       "      <td>A1L1ONPYVRYRYZ</td>\n",
       "      <td>1619920433</td>\n",
       "      <td>Cavallini has all kinds of fun and pretty trav...</td>\n",
       "      <td>5</td>\n",
       "      <td>Cavallini 6 by 8-Inch Birds Notebook, 144 Pages</td>\n",
       "      <td>11.55</td>\n",
       "      <td>None</td>\n",
       "    </tr>\n",
       "  </tbody>\n",
       "</table>\n",
       "</div>"
      ],
      "text/plain": [
       "       reviewerID        asin  \\\n",
       "0   AVEZNYIN8PTCY  0736789928   \n",
       "1  A15C9PBP100HLB  0767196813   \n",
       "2  A349LYELBIFDVK  1423915380   \n",
       "3   AS33ZA0EODGZ8  1424333083   \n",
       "4  A1975EX0SEQM6O  1424333083   \n",
       "5  A3NTXSCT01FE8Y  1472607341   \n",
       "6   A1W6PXDD1CVKI  1574890719   \n",
       "7  A3SRVYVONE131J  157489823X   \n",
       "8  A11NMMQEI6HFBA  1574899201   \n",
       "9  A1L1ONPYVRYRYZ  1619920433   \n",
       "\n",
       "                                          reviewText  rating  \\\n",
       "0  This was the pen I used in grade school to lea...       4   \n",
       "1  At our monthly BUNCO games we give prizes for ...       5   \n",
       "2  Can't get my fossil to work with it. So took i...       4   \n",
       "3  I have attended several courses taught by the ...       2   \n",
       "4  This has already come in handy for taping my s...       5   \n",
       "5  I ordered my filo on sunday and recieved it  o...       5   \n",
       "6  These are adorable gift tags, retro and cute. ...       5   \n",
       "7  Got this for my trip to NYC this summer. I tho...       4   \n",
       "8  High quality washi tape in a tin. A good bit o...       5   \n",
       "9  Cavallini has all kinds of fun and pretty trav...       5   \n",
       "\n",
       "                                               title  price  \\\n",
       "0  Zaner-Bloser Classic Handwriting Pen Single Un...   3.49   \n",
       "1  Graphique - Bunco Purse Notes, 3 x 4&quot;, Mu...   3.95   \n",
       "2  Renata Battery 370 Sr920W Silver 1.55V Swiss Made   2.85   \n",
       "3  Kinesiotaping in Pediatrics: Fundamentals and ...  48.90   \n",
       "4  Kinesiotaping in Pediatrics: Fundamentals and ...  48.90   \n",
       "5            Filofax Personal Original Patent Purple    NaN   \n",
       "6  Cavallini and Glitter Gift Tags Birds 36 Assor...  12.45   \n",
       "7                 Cavallini Notebooks New York 6 x 8  11.95   \n",
       "8  Cavallini Paris Decorative Paper Tape - 5 asso...  12.95   \n",
       "9    Cavallini 6 by 8-Inch Birds Notebook, 144 Pages  11.55   \n",
       "\n",
       "                 brand  \n",
       "0         Zaner-Bloser  \n",
       "1                 None  \n",
       "2               Renata  \n",
       "3              Kinesio  \n",
       "4              Kinesio  \n",
       "5                 None  \n",
       "6  Cavallini &amp; Co.  \n",
       "7  Cavallini &amp; Co.  \n",
       "8  Cavallini &amp; Co.  \n",
       "9                 None  "
      ]
     },
     "execution_count": 13,
     "metadata": {},
     "output_type": "execute_result"
    }
   ],
   "source": [
    "# Combinando os dataframes\n",
    "products_reviews = pd.merge(reviews_df, products_df, on='asin', how='left')\n",
    "\n",
    "# 10 primeiras observações do novo dataframe\n",
    "products_reviews.head(10)"
   ]
  },
  {
   "cell_type": "markdown",
   "id": "f46f323f",
   "metadata": {},
   "source": [
    "---\n",
    "## Cinco produtos com maior quantidade de reviews"
   ]
  },
  {
   "cell_type": "code",
   "execution_count": 29,
   "id": "b15de63f",
   "metadata": {},
   "outputs": [
    {
     "data": {
      "text/plain": [
       "['B00HK61L3C', 'B00B5H5BGA', 'B00FMJKRB6', 'B00I5H5Z1O', 'B0095PZHPE']"
      ]
     },
     "execution_count": 29,
     "metadata": {},
     "output_type": "execute_result"
    }
   ],
   "source": [
    "prod_rev = products_reviews.asin.value_counts().head(5).index.tolist()\n",
    "prod_rev"
   ]
  },
  {
   "cell_type": "code",
   "execution_count": 28,
   "id": "95973d16",
   "metadata": {},
   "outputs": [
    {
     "data": {
      "text/html": [
       "<div>\n",
       "<style scoped>\n",
       "    .dataframe tbody tr th:only-of-type {\n",
       "        vertical-align: middle;\n",
       "    }\n",
       "\n",
       "    .dataframe tbody tr th {\n",
       "        vertical-align: top;\n",
       "    }\n",
       "\n",
       "    .dataframe thead th {\n",
       "        text-align: right;\n",
       "    }\n",
       "</style>\n",
       "<table border=\"1\" class=\"dataframe\">\n",
       "  <thead>\n",
       "    <tr style=\"text-align: right;\">\n",
       "      <th></th>\n",
       "      <th>asin</th>\n",
       "      <th>title</th>\n",
       "      <th>price</th>\n",
       "      <th>brand</th>\n",
       "    </tr>\n",
       "  </thead>\n",
       "  <tbody>\n",
       "    <tr>\n",
       "      <th>32706</th>\n",
       "      <td>B0095PZHPE</td>\n",
       "      <td>Fitbit One Wireless Activity Plus Sleep Tracke...</td>\n",
       "      <td>93.57</td>\n",
       "      <td>Fitbit</td>\n",
       "    </tr>\n",
       "    <tr>\n",
       "      <th>35469</th>\n",
       "      <td>B00B5H5BGA</td>\n",
       "      <td>NatureWise Garcinia Cambogia Extract Natural A...</td>\n",
       "      <td>35.99</td>\n",
       "      <td>NatureWise</td>\n",
       "    </tr>\n",
       "    <tr>\n",
       "      <th>41756</th>\n",
       "      <td>B00FMJKRB6</td>\n",
       "      <td>First Aid Shot Therapy Pain Relief, Berry Flav...</td>\n",
       "      <td>29.99</td>\n",
       "      <td>None</td>\n",
       "    </tr>\n",
       "    <tr>\n",
       "      <th>44207</th>\n",
       "      <td>B00HK61L3C</td>\n",
       "      <td>W700 Thermogenic Hyper-Metabolizer by Ubervita...</td>\n",
       "      <td>29.95</td>\n",
       "      <td>Ubervita</td>\n",
       "    </tr>\n",
       "    <tr>\n",
       "      <th>45012</th>\n",
       "      <td>B00I5H5Z1O</td>\n",
       "      <td>Gillette Venus Snap with Embrace Women's Razor...</td>\n",
       "      <td>9.47</td>\n",
       "      <td>None</td>\n",
       "    </tr>\n",
       "  </tbody>\n",
       "</table>\n",
       "</div>"
      ],
      "text/plain": [
       "             asin                                              title  price  \\\n",
       "32706  B0095PZHPE  Fitbit One Wireless Activity Plus Sleep Tracke...  93.57   \n",
       "35469  B00B5H5BGA  NatureWise Garcinia Cambogia Extract Natural A...  35.99   \n",
       "41756  B00FMJKRB6  First Aid Shot Therapy Pain Relief, Berry Flav...  29.99   \n",
       "44207  B00HK61L3C  W700 Thermogenic Hyper-Metabolizer by Ubervita...  29.95   \n",
       "45012  B00I5H5Z1O  Gillette Venus Snap with Embrace Women's Razor...   9.47   \n",
       "\n",
       "            brand  \n",
       "32706      Fitbit  \n",
       "35469  NatureWise  \n",
       "41756        None  \n",
       "44207    Ubervita  \n",
       "45012        None  "
      ]
     },
     "execution_count": 28,
     "metadata": {},
     "output_type": "execute_result"
    }
   ],
   "source": [
    "products_df.loc[products_df.asin.isin(prod_rev)]"
   ]
  },
  {
   "cell_type": "markdown",
   "id": "64b491de",
   "metadata": {},
   "source": [
    "---\n",
    "## Cinco produtos com maior rating médio"
   ]
  },
  {
   "cell_type": "code",
   "execution_count": 30,
   "id": "3d306102",
   "metadata": {},
   "outputs": [
    {
     "data": {
      "text/plain": [
       "['B004XC5CD6', 'B005MGDRRA', 'B005MKP9OK', 'B005MKA4U4', 'B005MK9GYO']"
      ]
     },
     "execution_count": 30,
     "metadata": {},
     "output_type": "execute_result"
    }
   ],
   "source": [
    "prod_rating = products_reviews.groupby('asin')['rating'].mean().sort_values(ascending=False).head(5).index.tolist()\n",
    "prod_rating"
   ]
  },
  {
   "cell_type": "code",
   "execution_count": 31,
   "id": "05fa03b9",
   "metadata": {},
   "outputs": [
    {
     "data": {
      "text/html": [
       "<div>\n",
       "<style scoped>\n",
       "    .dataframe tbody tr th:only-of-type {\n",
       "        vertical-align: middle;\n",
       "    }\n",
       "\n",
       "    .dataframe tbody tr th {\n",
       "        vertical-align: top;\n",
       "    }\n",
       "\n",
       "    .dataframe thead th {\n",
       "        text-align: right;\n",
       "    }\n",
       "</style>\n",
       "<table border=\"1\" class=\"dataframe\">\n",
       "  <thead>\n",
       "    <tr style=\"text-align: right;\">\n",
       "      <th></th>\n",
       "      <th>asin</th>\n",
       "      <th>title</th>\n",
       "      <th>price</th>\n",
       "      <th>brand</th>\n",
       "    </tr>\n",
       "  </thead>\n",
       "  <tbody>\n",
       "    <tr>\n",
       "      <th>23937</th>\n",
       "      <td>B004XC5CD6</td>\n",
       "      <td>Deodorant Stick, Long Lasting Apricot 2.25 oz ...</td>\n",
       "      <td>14.24</td>\n",
       "      <td>Tom&amp;#39;s of Maine</td>\n",
       "    </tr>\n",
       "    <tr>\n",
       "      <th>26179</th>\n",
       "      <td>B005MGDRRA</td>\n",
       "      <td>Boiron Optique 1 for Eye Irritations, 20 Doses...</td>\n",
       "      <td>NaN</td>\n",
       "      <td>None</td>\n",
       "    </tr>\n",
       "    <tr>\n",
       "      <th>26197</th>\n",
       "      <td>B005MK9GYO</td>\n",
       "      <td>Four Piece Mach 3 Shave Set with Pure Badger B...</td>\n",
       "      <td>100.95</td>\n",
       "      <td>Bey-Berk</td>\n",
       "    </tr>\n",
       "    <tr>\n",
       "      <th>26198</th>\n",
       "      <td>B005MKA4U4</td>\n",
       "      <td>Melaleuca Diamond Brite - 25 loads</td>\n",
       "      <td>NaN</td>\n",
       "      <td>None</td>\n",
       "    </tr>\n",
       "    <tr>\n",
       "      <th>26200</th>\n",
       "      <td>B005MKP9OK</td>\n",
       "      <td>Optimox Corporation Iodoral 12.5 mg - 90 Tablets</td>\n",
       "      <td>49.99</td>\n",
       "      <td>None</td>\n",
       "    </tr>\n",
       "  </tbody>\n",
       "</table>\n",
       "</div>"
      ],
      "text/plain": [
       "             asin                                              title   price  \\\n",
       "23937  B004XC5CD6  Deodorant Stick, Long Lasting Apricot 2.25 oz ...   14.24   \n",
       "26179  B005MGDRRA  Boiron Optique 1 for Eye Irritations, 20 Doses...     NaN   \n",
       "26197  B005MK9GYO  Four Piece Mach 3 Shave Set with Pure Badger B...  100.95   \n",
       "26198  B005MKA4U4                 Melaleuca Diamond Brite - 25 loads     NaN   \n",
       "26200  B005MKP9OK   Optimox Corporation Iodoral 12.5 mg - 90 Tablets   49.99   \n",
       "\n",
       "                    brand  \n",
       "23937  Tom&#39;s of Maine  \n",
       "26179                None  \n",
       "26197            Bey-Berk  \n",
       "26198                None  \n",
       "26200                None  "
      ]
     },
     "execution_count": 31,
     "metadata": {},
     "output_type": "execute_result"
    }
   ],
   "source": [
    "products_df.loc[products_df.asin.isin(prod_rating)]"
   ]
  },
  {
   "cell_type": "markdown",
   "id": "0c3e3f80",
   "metadata": {},
   "source": [
    "---\n",
    "## Percentual de reviews positivos para os cinco produtos com maior quantidade de reviews\n",
    "\n",
    "Assumindo que qualquer review com rating maior que 3 é positivo (3.5, 4, 4.5, 5.0)."
   ]
  },
  {
   "cell_type": "code",
   "execution_count": 59,
   "id": "9dc92b36",
   "metadata": {},
   "outputs": [],
   "source": [
    "def calc_pos_neg(lst):\n",
    "    for i in range(len(lst)):\n",
    "        sum_pos = reviews_df.loc[(reviews_df.asin == lst[i]) & (reviews_df.rating > 3), 'asin'].count()\n",
    "        sum_neg = reviews_df.loc[(reviews_df.asin == lst[i]) & (reviews_df.rating <= 3), 'asin'].count()\n",
    "        pos = sum_pos / (sum_pos + sum_neg) *100\n",
    "        neg = 100 - pos\n",
    "    \n",
    "        print('O produto', lst[i], 'possui', neg.round(2), '% de reviews negativos e', pos.round(2), '% de reviews positivos.')"
   ]
  },
  {
   "cell_type": "code",
   "execution_count": 74,
   "id": "ecbf6cf9",
   "metadata": {},
   "outputs": [
    {
     "name": "stdout",
     "output_type": "stream",
     "text": [
      "O produto B00HK61L3C possui 10.74 % de reviews negativos e 89.26 % de reviews positivos.\n",
      "O produto B00B5H5BGA possui 22.89 % de reviews negativos e 77.11 % de reviews positivos.\n",
      "O produto B00FMJKRB6 possui 14.54 % de reviews negativos e 85.46 % de reviews positivos.\n",
      "O produto B00I5H5Z1O possui 5.96 % de reviews negativos e 94.04 % de reviews positivos.\n",
      "O produto B0095PZHPE possui 14.47 % de reviews negativos e 85.53 % de reviews positivos.\n"
     ]
    }
   ],
   "source": [
    "calc_pos_neg(prod_reviews)"
   ]
  },
  {
   "cell_type": "markdown",
   "id": "6e79368a",
   "metadata": {},
   "source": [
    "---\n",
    "## Percentual de reviews positivos para os cinco produtos com maior rating médio"
   ]
  },
  {
   "cell_type": "code",
   "execution_count": 75,
   "id": "6ec5a989",
   "metadata": {},
   "outputs": [
    {
     "name": "stdout",
     "output_type": "stream",
     "text": [
      "O produto B004XC5CD6 possui 0.0 % de reviews negativos e 100.0 % de reviews positivos.\n",
      "O produto B005MGDRRA possui 0.0 % de reviews negativos e 100.0 % de reviews positivos.\n",
      "O produto B005MKP9OK possui 0.0 % de reviews negativos e 100.0 % de reviews positivos.\n",
      "O produto B005MKA4U4 possui 0.0 % de reviews negativos e 100.0 % de reviews positivos.\n",
      "O produto B005MK9GYO possui 0.0 % de reviews negativos e 100.0 % de reviews positivos.\n"
     ]
    }
   ],
   "source": [
    "calc_pos_neg(prod_rating)"
   ]
  },
  {
   "cell_type": "markdown",
   "id": "eabfa8c2",
   "metadata": {},
   "source": [
    "---\n",
    "## Qual seria o percentual de reviews positivos de todos os produtos, se eu adicionasse 1 review positivo e 1 review negativo"
   ]
  },
  {
   "cell_type": "code",
   "execution_count": 57,
   "id": "e5032f93",
   "metadata": {},
   "outputs": [],
   "source": []
  },
  {
   "cell_type": "code",
   "execution_count": null,
   "id": "4313bee9",
   "metadata": {},
   "outputs": [],
   "source": []
  },
  {
   "cell_type": "markdown",
   "id": "d56c343c",
   "metadata": {},
   "source": [
    "---\n",
    "## Preço médio de todos os produtos"
   ]
  },
  {
   "cell_type": "code",
   "execution_count": 70,
   "id": "1ad14448",
   "metadata": {},
   "outputs": [
    {
     "data": {
      "text/plain": [
       "26.262131177320338"
      ]
     },
     "execution_count": 70,
     "metadata": {},
     "output_type": "execute_result"
    }
   ],
   "source": [
    "products_df['price'].mean()"
   ]
  },
  {
   "cell_type": "markdown",
   "id": "adb16fed",
   "metadata": {},
   "source": [
    "---\n",
    "## Preço médio de produtos da Philips, da 3M e da Duracell"
   ]
  },
  {
   "cell_type": "code",
   "execution_count": 33,
   "id": "7414401b",
   "metadata": {},
   "outputs": [
    {
     "data": {
      "text/plain": [
       "brand\n",
       "3M          13.843805\n",
       "Duracell    14.395696\n",
       "Philips     55.638896\n",
       "Name: price, dtype: float64"
      ]
     },
     "execution_count": 33,
     "metadata": {},
     "output_type": "execute_result"
    }
   ],
   "source": [
    "prod_lst  = products_df.loc[(products_df.brand.isin(['Philips','3M','Duracell']))]\n",
    "prod_lst.groupby('brand')['price'].mean()"
   ]
  },
  {
   "cell_type": "code",
   "execution_count": 77,
   "id": "145d7878",
   "metadata": {},
   "outputs": [
    {
     "data": {
      "text/plain": [
       "33.1570422535211"
      ]
     },
     "execution_count": 77,
     "metadata": {},
     "output_type": "execute_result"
    }
   ],
   "source": [
    "prod_lst.price.mean()"
   ]
  },
  {
   "cell_type": "markdown",
   "id": "4f883993",
   "metadata": {},
   "source": [
    "---\n",
    "## Percentual de reviews positivos para cada produto da Philips, da 3M e da Duracell"
   ]
  },
  {
   "cell_type": "code",
   "execution_count": 61,
   "id": "858692f2",
   "metadata": {},
   "outputs": [],
   "source": [
    "prod_rev = products_reviews.loc[(products_reviews.brand.isin(['Philips','3M','Duracell']))]"
   ]
  },
  {
   "cell_type": "code",
   "execution_count": 49,
   "id": "fe59f49c",
   "metadata": {},
   "outputs": [],
   "source": [
    "def lst_pos_neg(lst):\n",
    "    for i in range(len(lst)):\n",
    "        sum_pos = prod_rev.loc[(prod_rev.brand == lst[i]) & (prod_rev.rating > 3), 'asin'].count()\n",
    "        sum_neg = prod_rev.loc[(prod_rev.brand == lst[i]) & (prod_rev.rating <= 3), 'asin'].count()\n",
    "        pos = sum_pos / (sum_pos + sum_neg) *100\n",
    "        neg = 100 - pos\n",
    "    \n",
    "        print('O produto', lst[i], 'possui', neg.round(2), '% de reviews negativos e', pos.round(2), '% de reviews positivos.')"
   ]
  },
  {
   "cell_type": "code",
   "execution_count": 50,
   "id": "52cfbb3e",
   "metadata": {},
   "outputs": [
    {
     "name": "stdout",
     "output_type": "stream",
     "text": [
      "O produto Philips possui 22.21 % de reviews negativos e 77.79 % de reviews positivos.\n",
      "O produto 3M possui 15.1 % de reviews negativos e 84.9 % de reviews positivos.\n",
      "O produto Duracell possui 14.16 % de reviews negativos e 85.84 % de reviews positivos.\n"
     ]
    }
   ],
   "source": [
    "lst_pos_neg(['Philips','3M','Duracell'])"
   ]
  },
  {
   "cell_type": "markdown",
   "id": "64dde6f0",
   "metadata": {},
   "source": [
    "---\n",
    "## Percentual de positivos médio para cada uma dessas marcas"
   ]
  },
  {
   "cell_type": "code",
   "execution_count": null,
   "id": "3f2d4302",
   "metadata": {},
   "outputs": [],
   "source": []
  },
  {
   "cell_type": "code",
   "execution_count": null,
   "id": "719b9075",
   "metadata": {},
   "outputs": [],
   "source": []
  },
  {
   "cell_type": "code",
   "execution_count": null,
   "id": "4d007afc",
   "metadata": {},
   "outputs": [],
   "source": []
  }
 ],
 "metadata": {
  "kernelspec": {
   "display_name": "Python 3 (ipykernel)",
   "language": "python",
   "name": "python3"
  },
  "language_info": {
   "codemirror_mode": {
    "name": "ipython",
    "version": 3
   },
   "file_extension": ".py",
   "mimetype": "text/x-python",
   "name": "python",
   "nbconvert_exporter": "python",
   "pygments_lexer": "ipython3",
   "version": "3.9.7"
  }
 },
 "nbformat": 4,
 "nbformat_minor": 5
}
